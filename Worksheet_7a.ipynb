{
  "nbformat": 4,
  "nbformat_minor": 0,
  "metadata": {
    "colab": {
      "provenance": [],
      "authorship_tag": "ABX9TyOnLy2AassQXhNCoUpNTLKj",
      "include_colab_link": true
    },
    "kernelspec": {
      "name": "python3",
      "display_name": "Python 3"
    },
    "language_info": {
      "name": "python"
    }
  },
  "cells": [
    {
      "cell_type": "markdown",
      "metadata": {
        "id": "view-in-github",
        "colab_type": "text"
      },
      "source": [
        "<a href=\"https://colab.research.google.com/github/TeckHack76/Python_Worksheet/blob/main/Worksheet_7a.ipynb\" target=\"_parent\"><img src=\"https://colab.research.google.com/assets/colab-badge.svg\" alt=\"Open In Colab\"/></a>"
      ]
    },
    {
      "cell_type": "code",
      "execution_count": 1,
      "metadata": {
        "colab": {
          "base_uri": "https://localhost:8080/"
        },
        "id": "vwPJivZTw2By",
        "outputId": "31960544-43a0-4cbf-e87f-9562ab14f88a"
      },
      "outputs": [
        {
          "output_type": "stream",
          "name": "stdout",
          "text": [
            "2.2.2\n"
          ]
        }
      ],
      "source": [
        "#q1.1\n",
        "import pandas as pd\n",
        "print(pd.__version__)"
      ]
    },
    {
      "cell_type": "code",
      "source": [
        "#q1.2\n",
        "data = {'Name': ['Alice', 'Bob', 'Charlie'], 'Age': [25, 30, 35], 'City': ['New York', 'Los Angeles', 'Chicago']}\n",
        "df = pd.DataFrame(data)\n",
        "print(df)"
      ],
      "metadata": {
        "colab": {
          "base_uri": "https://localhost:8080/"
        },
        "id": "ik98VhhBw47t",
        "outputId": "e4bf4c2e-37dc-4ede-d3fc-cdde124a2f4d"
      },
      "execution_count": 2,
      "outputs": [
        {
          "output_type": "stream",
          "name": "stdout",
          "text": [
            "      Name  Age         City\n",
            "0    Alice   25     New York\n",
            "1      Bob   30  Los Angeles\n",
            "2  Charlie   35      Chicago\n"
          ]
        }
      ]
    },
    {
      "cell_type": "code",
      "source": [
        "#q2.1\n",
        "S1 = pd.Series([100, 200, 300, 400, 500])\n",
        "print(S1)"
      ],
      "metadata": {
        "colab": {
          "base_uri": "https://localhost:8080/"
        },
        "id": "wxkNQwn1xA0Q",
        "outputId": "9b730ad2-d5a2-45ff-996a-0f853a68fa20"
      },
      "execution_count": 3,
      "outputs": [
        {
          "output_type": "stream",
          "name": "stdout",
          "text": [
            "0    100\n",
            "1    200\n",
            "2    300\n",
            "3    400\n",
            "4    500\n",
            "dtype: int64\n"
          ]
        }
      ]
    },
    {
      "cell_type": "code",
      "source": [
        "#q2.2\n",
        "print(S1[1], S1[3])"
      ],
      "metadata": {
        "colab": {
          "base_uri": "https://localhost:8080/"
        },
        "id": "3IFr5t6YxJ4B",
        "outputId": "d47e7899-52cf-4a96-e2cb-7c40be50a22a"
      },
      "execution_count": 4,
      "outputs": [
        {
          "output_type": "stream",
          "name": "stdout",
          "text": [
            "200 400\n"
          ]
        }
      ]
    },
    {
      "cell_type": "code",
      "source": [
        "#q2.3\n",
        "S2 = pd.Series([10, 20, 30, 40, 50])\n",
        "result = S1 + S2\n",
        "print(result)"
      ],
      "metadata": {
        "colab": {
          "base_uri": "https://localhost:8080/"
        },
        "id": "dJ6kBMPKxRmD",
        "outputId": "ed41c5c3-4630-4b1a-8ba6-5f912af20acb"
      },
      "execution_count": 5,
      "outputs": [
        {
          "output_type": "stream",
          "name": "stdout",
          "text": [
            "0    110\n",
            "1    220\n",
            "2    330\n",
            "3    440\n",
            "4    550\n",
            "dtype: int64\n"
          ]
        }
      ]
    },
    {
      "cell_type": "code",
      "source": [
        "#q3.1\n",
        "print(df[['Name', 'City']])"
      ],
      "metadata": {
        "colab": {
          "base_uri": "https://localhost:8080/"
        },
        "id": "oCHXp9RkxZe6",
        "outputId": "ee737f9a-624b-4a9f-b934-bd716800d66e"
      },
      "execution_count": 6,
      "outputs": [
        {
          "output_type": "stream",
          "name": "stdout",
          "text": [
            "      Name         City\n",
            "0    Alice     New York\n",
            "1      Bob  Los Angeles\n",
            "2  Charlie      Chicago\n"
          ]
        }
      ]
    },
    {
      "cell_type": "code",
      "source": [
        "#q3.2\n",
        "df['Salary'] = [50000, 60000, 70000]\n",
        "print(df)"
      ],
      "metadata": {
        "colab": {
          "base_uri": "https://localhost:8080/"
        },
        "id": "hBjcPOewxZRE",
        "outputId": "0091f1e9-8cd7-4aae-9854-ee99577ca47b"
      },
      "execution_count": 7,
      "outputs": [
        {
          "output_type": "stream",
          "name": "stdout",
          "text": [
            "      Name  Age         City  Salary\n",
            "0    Alice   25     New York   50000\n",
            "1      Bob   30  Los Angeles   60000\n",
            "2  Charlie   35      Chicago   70000\n"
          ]
        }
      ]
    },
    {
      "cell_type": "code",
      "source": [
        "#q3.3\n",
        "average_age = df['Age'].mean()\n",
        "total_salary = df['Salary'].sum()\n",
        "print(f\"Average Age: {average_age}\")\n",
        "print(f\"Total Salary: {total_salary}\")"
      ],
      "metadata": {
        "colab": {
          "base_uri": "https://localhost:8080/"
        },
        "id": "heFPSDU2xjIz",
        "outputId": "2ec78040-a572-43d7-e339-c5666634c122"
      },
      "execution_count": 8,
      "outputs": [
        {
          "output_type": "stream",
          "name": "stdout",
          "text": [
            "Average Age: 30.0\n",
            "Total Salary: 180000\n"
          ]
        }
      ]
    },
    {
      "cell_type": "code",
      "source": [
        "#q4.1\n",
        "filtered_df = df[df['Age'] > 28]\n",
        "print(filtered_df)"
      ],
      "metadata": {
        "colab": {
          "base_uri": "https://localhost:8080/"
        },
        "id": "3o0WEO0uxoP4",
        "outputId": "07477771-1325-465a-e247-5615b140c96e"
      },
      "execution_count": 9,
      "outputs": [
        {
          "output_type": "stream",
          "name": "stdout",
          "text": [
            "      Name  Age         City  Salary\n",
            "1      Bob   30  Los Angeles   60000\n",
            "2  Charlie   35      Chicago   70000\n"
          ]
        }
      ]
    },
    {
      "cell_type": "code",
      "source": [
        "#q4.2\n",
        "df_with_index = df.set_index('Name')\n",
        "print(df_with_index)\n",
        "\n",
        "df_reset = df_with_index.reset_index()\n",
        "print(df_reset)"
      ],
      "metadata": {
        "colab": {
          "base_uri": "https://localhost:8080/"
        },
        "id": "1TXyOOUextfv",
        "outputId": "258266a1-3b07-4096-e145-30a4bf724174"
      },
      "execution_count": 10,
      "outputs": [
        {
          "output_type": "stream",
          "name": "stdout",
          "text": [
            "         Age         City  Salary\n",
            "Name                             \n",
            "Alice     25     New York   50000\n",
            "Bob       30  Los Angeles   60000\n",
            "Charlie   35      Chicago   70000\n",
            "      Name  Age         City  Salary\n",
            "0    Alice   25     New York   50000\n",
            "1      Bob   30  Los Angeles   60000\n",
            "2  Charlie   35      Chicago   70000\n"
          ]
        }
      ]
    },
    {
      "cell_type": "code",
      "source": [
        "#q5.1\n",
        "import csv\n",
        "data=[\n",
        "    ['Name', 'Department', 'Salary'],\n",
        "    ['John', 'Sales', 55000],\n",
        "    ['Jane', 'Marketing', 60000],\n",
        "    ['Emily', 'Sales', 58000],\n",
        "]\n",
        "filename='employee_data.csv'\n",
        "with open(filename, 'w', newline='') as file:\n",
        "    writer = csv.writer(file)\n",
        "    writer.writerows(data)\n",
        "df_csv = pd.read_csv('employee_data.csv')\n",
        "print(df_csv)"
      ],
      "metadata": {
        "colab": {
          "base_uri": "https://localhost:8080/"
        },
        "id": "QXjsrMcCxzzN",
        "outputId": "a980447f-a370-4e56-e963-ff77711bbdce"
      },
      "execution_count": 12,
      "outputs": [
        {
          "output_type": "stream",
          "name": "stdout",
          "text": [
            "    Name Department  Salary\n",
            "0   John      Sales   55000\n",
            "1   Jane  Marketing   60000\n",
            "2  Emily      Sales   58000\n"
          ]
        }
      ]
    },
    {
      "cell_type": "code",
      "source": [
        "#q5.2\n",
        "filtered_csv = df_csv[df_csv['Salary'] > 55000]\n",
        "print(filtered_csv[['Name', 'Department']])"
      ],
      "metadata": {
        "colab": {
          "base_uri": "https://localhost:8080/"
        },
        "id": "suiP4jBHyWST",
        "outputId": "fb77bafb-6575-4e96-df48-12c2f720ef1d"
      },
      "execution_count": 13,
      "outputs": [
        {
          "output_type": "stream",
          "name": "stdout",
          "text": [
            "    Name Department\n",
            "1   Jane  Marketing\n",
            "2  Emily      Sales\n"
          ]
        }
      ]
    },
    {
      "cell_type": "code",
      "source": [
        "#q6.1\n",
        "grouped = df_csv.groupby('Department')['Salary'].mean()\n",
        "print(grouped)"
      ],
      "metadata": {
        "colab": {
          "base_uri": "https://localhost:8080/"
        },
        "id": "HIRbx444ybj8",
        "outputId": "261dd41a-6f82-4075-fb48-0a8ff5ad9bed"
      },
      "execution_count": 14,
      "outputs": [
        {
          "output_type": "stream",
          "name": "stdout",
          "text": [
            "Department\n",
            "Marketing    60000.0\n",
            "Sales        56500.0\n",
            "Name: Salary, dtype: float64\n"
          ]
        }
      ]
    },
    {
      "cell_type": "code",
      "source": [
        "#q6.2\n",
        "agg_result = df_csv.groupby('Department')['Salary'].agg(['min', 'max'])\n",
        "print(agg_result)"
      ],
      "metadata": {
        "colab": {
          "base_uri": "https://localhost:8080/"
        },
        "id": "uQZ9eX4uygd0",
        "outputId": "db0f2c40-75c2-486e-eed8-830448aea26f"
      },
      "execution_count": 15,
      "outputs": [
        {
          "output_type": "stream",
          "name": "stdout",
          "text": [
            "              min    max\n",
            "Department              \n",
            "Marketing   60000  60000\n",
            "Sales       55000  58000\n"
          ]
        }
      ]
    },
    {
      "cell_type": "code",
      "source": [
        "#q7.1\n",
        "df1 = pd.DataFrame({'Name': ['John', 'Jane', 'Emily'], 'Department': ['Sales', 'Marketing', 'HR']})\n",
        "df2 = pd.DataFrame({'Name': ['John', 'Jane', 'Emily'], 'Experience (Years)': [5, 7, 3]})\n",
        "merged_df = pd.merge(df1, df2, on='Name')\n",
        "print(merged_df)"
      ],
      "metadata": {
        "colab": {
          "base_uri": "https://localhost:8080/"
        },
        "id": "CpBth77lykoB",
        "outputId": "a411444d-f686-44a1-f9d4-88ebb57a6b6b"
      },
      "execution_count": 16,
      "outputs": [
        {
          "output_type": "stream",
          "name": "stdout",
          "text": [
            "    Name Department  Experience (Years)\n",
            "0   John      Sales                   5\n",
            "1   Jane  Marketing                   7\n",
            "2  Emily         HR                   3\n"
          ]
        }
      ]
    },
    {
      "cell_type": "code",
      "source": [
        "#q8.1\n",
        "sorted_df = merged_df.sort_values(by='Experience (Years)', ascending=False)\n",
        "print(sorted_df)"
      ],
      "metadata": {
        "colab": {
          "base_uri": "https://localhost:8080/"
        },
        "id": "dpPfDn9wypfX",
        "outputId": "39901460-b156-4b48-a65b-4ea445680780"
      },
      "execution_count": 17,
      "outputs": [
        {
          "output_type": "stream",
          "name": "stdout",
          "text": [
            "    Name Department  Experience (Years)\n",
            "1   Jane  Marketing                   7\n",
            "0   John      Sales                   5\n",
            "2  Emily         HR                   3\n"
          ]
        }
      ]
    }
  ]
}