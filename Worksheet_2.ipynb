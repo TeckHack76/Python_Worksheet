{
  "nbformat": 4,
  "nbformat_minor": 0,
  "metadata": {
    "colab": {
      "provenance": [],
      "authorship_tag": "ABX9TyNhheprgNoev+9ttTwEiERL",
      "include_colab_link": true
    },
    "kernelspec": {
      "name": "python3",
      "display_name": "Python 3"
    },
    "language_info": {
      "name": "python"
    }
  },
  "cells": [
    {
      "cell_type": "markdown",
      "metadata": {
        "id": "view-in-github",
        "colab_type": "text"
      },
      "source": [
        "<a href=\"https://colab.research.google.com/github/TeckHack76/Python_Worksheet/blob/main/Worksheet_2.ipynb\" target=\"_parent\"><img src=\"https://colab.research.google.com/assets/colab-badge.svg\" alt=\"Open In Colab\"/></a>"
      ]
    },
    {
      "cell_type": "code",
      "execution_count": null,
      "metadata": {
        "id": "-_Y0p3bODmm-"
      },
      "outputs": [],
      "source": [
        "L = [11, 12, 13, 14]\n",
        "\n",
        "# (i) Add 50 and 60 to L\n",
        "L.append(50)\n",
        "L.append(60)\n",
        "print(\"After adding 50 and 60:\", L)\n",
        "\n",
        "# (ii) Remove 11 and 13 from L\n",
        "L.remove(11)\n",
        "L.remove(13)\n",
        "print(\"After removing 11 and 13:\", L)\n",
        "\n",
        "# (iii) Sort L in ascending order\n",
        "L.sort()\n",
        "print(\"Sorted in ascending order:\", L)\n",
        "\n",
        "# (iv) Sort L in descending order\n",
        "L.sort(reverse=True)\n",
        "print(\"Sorted in descending order:\", L)\n",
        "\n",
        "# (v) Search for 13 in L\n",
        "search_element = 13\n",
        "found = search_element in L\n",
        "print(\"Is 13 in the list?:\", found)\n",
        "\n",
        "# (vi) Count the number of elements present in L\n",
        "count = len(L)\n",
        "print(\"Number of elements in the list:\", count)\n",
        "\n",
        "# (vii) Sum all the elements in L\n",
        "total_sum = sum(L)\n",
        "print(\"Sum of all elements:\", total_sum)\n",
        "\n",
        "# (viii) Sum all ODD numbers in L\n",
        "sum_odd = sum(x for x in L if x % 2 != 0)\n",
        "print(\"Sum of all odd numbers:\", sum_odd)\n",
        "\n",
        "# (ix) Sum all EVEN numbers in L\n",
        "sum_even = sum(x for x in L if x % 2 == 0)\n",
        "print(\"Sum of all even numbers:\", sum_even)\n",
        "\n",
        "# (x) Sum all PRIME numbers in L\n",
        "def is_prime(n):\n",
        "    if n <= 1:\n",
        "        return False\n",
        "    if n <= 3:\n",
        "        return True\n",
        "    if n % 2 == 0 or n % 3 == 0:\n",
        "        return False\n",
        "    i = 5\n",
        "    while i * i <= n:\n",
        "        if n % i == 0 or n % (i + 2) == 0:\n",
        "            return False\n",
        "        i += 6\n",
        "    return True\n",
        "\n",
        "sum_prime = sum(x for x in L if is_prime(x))\n",
        "print(\"Sum of all prime numbers:\", sum_prime)\n",
        "\n",
        "# (xi) Clear all the elements in L\n",
        "L.clear()\n",
        "print(\"After clearing the list:\", L)\n",
        "\n",
        "# (xii) Delete L\n",
        "del L\n"
      ]
    },
    {
      "cell_type": "code",
      "source": [
        "numbers = [1, 2, 3, 4, 5]\n",
        "total_sum = 0\n",
        "for num in numbers:\n",
        "    total_sum += num\n",
        "print(\"Sum of all items:\", total_sum)"
      ],
      "metadata": {
        "id": "XS1ivA6nEPhw"
      },
      "execution_count": null,
      "outputs": []
    },
    {
      "cell_type": "code",
      "source": [
        "numbers = [1, 2, 3, 4, 5]\n",
        "total_product = 1\n",
        "for num in numbers:\n",
        "    total_product *= num\n",
        "print(\"Product of all items:\", total_product)"
      ],
      "metadata": {
        "id": "ca3SvxxhFbgD"
      },
      "execution_count": null,
      "outputs": []
    },
    {
      "cell_type": "code",
      "source": [
        "array_3d = [[['*' for _ in range(6)] for _ in range(4)] for _ in range(3)]\n",
        "print(array_3d)"
      ],
      "metadata": {
        "id": "GrqzWxbAFeQQ"
      },
      "execution_count": null,
      "outputs": []
    },
    {
      "cell_type": "code",
      "source": [
        "D = {1: 5.6, 2: 7.8, 3: 6.6, 4: 8.7, 5: 7.7}\n",
        "\n",
        "# (i) Add new entry in D; key=8 and value=8.8\n",
        "D[8] = 8.8\n",
        "print(\"After adding new entry:\", D)\n",
        "\n",
        "# (ii) Remove key=2\n",
        "del D[2]\n",
        "print(\"After removing key 2:\", D)\n",
        "\n",
        "# (iii) Check whether key 6 is present in D\n",
        "is_key_present = 6 in D\n",
        "print(\"Is key 6 present?:\", is_key_present)\n",
        "\n",
        "# (iv) Count the number of elements present in D\n",
        "count = len(D)\n",
        "print(\"Number of elements in dictionary:\", count)\n",
        "\n",
        "# (v) Add all the values present in D\n",
        "sum_values = sum(D.values())\n",
        "print(\"Sum of all values:\", sum_values)\n",
        "\n",
        "# (vi) Update the value of key 3 to 7.1\n",
        "D[3] = 7.1\n",
        "print(\"After updating value of key 3:\", D)\n",
        "\n",
        "# (vii) Clear the dictionary\n",
        "D.clear()\n",
        "print(\"After clearing dictionary:\", D)"
      ],
      "metadata": {
        "id": "tnWALkZvFiJ4"
      },
      "execution_count": null,
      "outputs": []
    },
    {
      "cell_type": "code",
      "source": [
        "S1 = {10, 20, 30, 40, 50, 60}\n",
        "S2 = {40, 50, 60, 70, 80, 90}\n",
        "\n",
        "# (i) Add 55 and 66 in Set S1\n",
        "S1.add(55)\n",
        "S1.add(66)\n",
        "print(\"After adding 55 and 66:\", S1)\n",
        "\n",
        "# (ii) Remove 10 and 30 from Set S1\n",
        "S1.discard(10)\n",
        "S1.discard(30)\n",
        "print(\"After removing 10 and 30:\", S1)\n",
        "\n",
        "# (iii) Check whether 40 is present in S1\n",
        "is_present = 40 in S1\n",
        "print(\"Is 40 present in S1?:\", is_present)\n",
        "\n",
        "# (iv) Find the union between S1 and S2\n",
        "union_set = S1.union(S2)\n",
        "print(\"Union of S1 and S2:\", union_set)\n",
        "\n",
        "# (v) Find the intersection between S1 and S2\n",
        "intersection_set = S1.intersection(S2)\n",
        "print(\"Intersection of S1 and S2:\", intersection_set)\n",
        "\n",
        "# (vi) Find S1 - S2\n",
        "difference_set = S1.difference(S2)\n",
        "print(\"Difference S1 - S2:\", difference_set)"
      ],
      "metadata": {
        "id": "ZxSfOj9TFk6P"
      },
      "execution_count": null,
      "outputs": []
    },
    {
      "cell_type": "code",
      "source": [
        "import random\n",
        "import string\n",
        "\n",
        "# (i) Print 100 random strings whose length is between 6 and 8\n",
        "random_strings = [''.join(random.choices(string.ascii_letters, k=random.randint(6, 8))) for _ in range(100)]\n",
        "print(\"100 random strings:\", random_strings)\n",
        "\n",
        "# (ii) Print all prime numbers between 600 and 800\n",
        "def is_prime(n):\n",
        "    if n <= 1:\n",
        "        return False\n",
        "    if n <= 3:\n",
        "        return True\n",
        "    if n % 2 == 0 or n % 3 == 0:\n",
        "        return False\n",
        "    i = 5\n",
        "    while i * i <= n:\n",
        "        if n % i == 0 or n % (i + 2) == 0:\n",
        "            return False\n",
        "        i += 6\n",
        "    return True\n",
        "\n",
        "primes = [n for n in range(600, 801) if is_prime(n)]\n",
        "print(\"Prime numbers between 600 and 800:\", primes)\n",
        "\n",
        "# (iii) Print all numbers between 100 and 1000 that are divisible by 7 and 9\n",
        "divisible_by_7_and_9 = [n for n in range(100, 1001) if n % 7 == 0 and n % 9 == 0]\n",
        "print(\"Numbers between 100 and 1000 divisible by 7 and 9:\", divisible_by_7_and_9)"
      ],
      "metadata": {
        "id": "ayQIb3y-FqJW"
      },
      "execution_count": null,
      "outputs": []
    },
    {
      "cell_type": "code",
      "source": [
        "exam_st_date = (11, 12, 2014)\n",
        "print(\"The examination will start from: %i/%i/%i\" % exam_st_date)"
      ],
      "metadata": {
        "id": "eZqT2FJxFtBW"
      },
      "execution_count": null,
      "outputs": []
    },
    {
      "cell_type": "code",
      "source": [
        "numbers = [10, 22, 35, 47, 55, 63, 75]\n",
        "divisible_by_5 = [n for n in numbers if n % 5 == 0]\n",
        "print(\"Numbers divisible by 5:\", divisible_by_5)"
      ],
      "metadata": {
        "id": "gMEqC2HTFvoS"
      },
      "execution_count": null,
      "outputs": []
    },
    {
      "cell_type": "code",
      "source": [
        "num = 27\n",
        "is_even = num % 2 == 0\n",
        "is_odd = not is_even\n",
        "print(f\"{num} is Even?:\", is_even)\n",
        "print(f\"{num} is Odd?:\", is_odd)"
      ],
      "metadata": {
        "id": "z9OaodPaFyzE"
      },
      "execution_count": null,
      "outputs": []
    },
    {
      "cell_type": "code",
      "source": [
        "string = \"Emma is good at coding. Emma likes to code. Emma is a coder.\"\n",
        "count = string.count(\"Emma\")\n",
        "print(\"Number of times 'Emma' appears:\", count)"
      ],
      "metadata": {
        "id": "HihlFv6gF10l"
      },
      "execution_count": null,
      "outputs": []
    },
    {
      "cell_type": "code",
      "source": [
        "list1 = [1, 2, 3, 4, 5]\n",
        "list2 = [6, 7, 8, 9, 10]\n",
        "\n",
        "new_list = [x for x in list1 if x % 2 != 0] + [x for x in list2 if x % 2 == 0]\n",
        "print(\"New list:\", new_list)"
      ],
      "metadata": {
        "id": "bSYwhSfMF6z-"
      },
      "execution_count": null,
      "outputs": []
    }
  ]
}