{
  "nbformat": 4,
  "nbformat_minor": 0,
  "metadata": {
    "colab": {
      "provenance": [],
      "authorship_tag": "ABX9TyOCLLahoAbp1H4plSDxMZN9",
      "include_colab_link": true
    },
    "kernelspec": {
      "name": "python3",
      "display_name": "Python 3"
    },
    "language_info": {
      "name": "python"
    }
  },
  "cells": [
    {
      "cell_type": "markdown",
      "metadata": {
        "id": "view-in-github",
        "colab_type": "text"
      },
      "source": [
        "<a href=\"https://colab.research.google.com/github/TeckHack76/Python_Worksheet/blob/main/Worksheet_3.ipynb\" target=\"_parent\"><img src=\"https://colab.research.google.com/assets/colab-badge.svg\" alt=\"Open In Colab\"/></a>"
      ]
    },
    {
      "cell_type": "code",
      "execution_count": null,
      "metadata": {
        "id": "2dajPn1UGXOB"
      },
      "outputs": [],
      "source": [
        "def difference_from_17(n):\n",
        "    if n > 17:\n",
        "        return 2 * abs(n - 17)\n",
        "    else:\n",
        "        return 17 - n\n",
        "\n",
        "print(difference_from_17(22))\n",
        "print(difference_from_17(10))"
      ]
    },
    {
      "cell_type": "code",
      "source": [
        "def is_within_range(n):\n",
        "    return (100 <= n <= 1000) or (n == 2000)\n",
        "\n",
        "print(is_within_range(150))\n",
        "print(is_within_range(1001))\n",
        "print(is_within_range(2000))"
      ],
      "metadata": {
        "id": "QHCKBnTwGYY6"
      },
      "execution_count": null,
      "outputs": []
    },
    {
      "cell_type": "code",
      "source": [
        "def reverse_string(s):\n",
        "    return s[::-1]\n",
        "\n",
        "print(reverse_string(\"hello\"))"
      ],
      "metadata": {
        "id": "i85oAiTgGeoW"
      },
      "execution_count": null,
      "outputs": []
    },
    {
      "cell_type": "code",
      "source": [
        "def count_case(s):\n",
        "    upper_count = sum(1 for char in s if char.isupper())\n",
        "    lower_count = sum(1 for char in s if char.islower())\n",
        "    return upper_count, lower_count\n",
        "\n",
        "upper, lower = count_case(\"Hello World!\")\n",
        "print(f\"Upper case letters: {upper}, Lower case letters: {lower}\")"
      ],
      "metadata": {
        "id": "zIbw-G_AGheh"
      },
      "execution_count": null,
      "outputs": []
    },
    {
      "cell_type": "code",
      "source": [
        "def get_distinct_elements(lst):\n",
        "    return list(set(lst))\n",
        "\n",
        "print(get_distinct_elements([1, 2, 2, 3, 4, 4, 5]))"
      ],
      "metadata": {
        "id": "qMZxX55_Gke8"
      },
      "execution_count": null,
      "outputs": []
    },
    {
      "cell_type": "code",
      "source": [
        "def get_even_numbers(lst):\n",
        "    return [x for x in lst if x % 2 == 0]\n",
        "\n",
        "print(get_even_numbers([1, 2, 3, 4, 5, 6, 7, 8, 9]))"
      ],
      "metadata": {
        "id": "u4VhQMCHGown"
      },
      "execution_count": null,
      "outputs": []
    },
    {
      "cell_type": "code",
      "source": [
        "def outer_function():\n",
        "    def inner_function():\n",
        "        return \"Inner function result\"\n",
        "    return inner_function()\n",
        "\n",
        "print(outer_function())"
      ],
      "metadata": {
        "id": "EELKLCPUGtWs"
      },
      "execution_count": null,
      "outputs": []
    },
    {
      "cell_type": "code",
      "source": [
        "def student(name, age, grade):\n",
        "    student_args = student.__code__.co_varnames[:student.__code__.co_argcount]\n",
        "    print(\"Arguments:\", student_args)\n",
        "\n",
        "student(\"John\", 21, \"A\")"
      ],
      "metadata": {
        "id": "ZwyIwDYkGvuj"
      },
      "execution_count": null,
      "outputs": []
    },
    {
      "cell_type": "code",
      "source": [
        "class Student:\n",
        "    def __init__(self, student_id, student_name):\n",
        "        self.student_id = student_id\n",
        "        self.student_name = student_name\n",
        "        self.student_class = None\n",
        "\n",
        "    def display_info(self):\n",
        "        print(f\"ID: {self.student_id}, Name: {self.student_name}, Class: {self.student_class}\")\n",
        "\n",
        "student = Student(1, \"Alice\")\n",
        "student.student_class = \"Math 101\"\n",
        "student.display_info()"
      ],
      "metadata": {
        "id": "wQoidptXGyFu"
      },
      "execution_count": null,
      "outputs": []
    },
    {
      "cell_type": "code",
      "source": [
        "class Student:\n",
        "    def __init__(self, student_id, student_name):\n",
        "        self.student_id = student_id\n",
        "        self.student_name = student_name\n",
        "\n",
        "    def display_info(self):\n",
        "        print(f\"Student ID: {self.student_id}\")\n",
        "        print(f\"Student Name: {self.student_name}\")\n",
        "\n",
        "student1 = Student(1, \"Alice\")\n",
        "student2 = Student(2, \"Bob\")\n",
        "\n",
        "student1.display_info()\n",
        "student2.display_info()"
      ],
      "metadata": {
        "id": "4v2VmKUEG1cb"
      },
      "execution_count": null,
      "outputs": []
    },
    {
      "cell_type": "code",
      "source": [
        "import math\n",
        "\n",
        "class Circle:\n",
        "    def __init__(self, radius):\n",
        "        self.radius = radius\n",
        "\n",
        "    def area(self):\n",
        "        return math.pi * self.radius ** 2\n",
        "\n",
        "    def perimeter(self):\n",
        "        return 2 * math.pi * self.radius\n",
        "\n",
        "circle = Circle(5)\n",
        "print(f\"Area: {circle.area()}\")\n",
        "print(f\"Perimeter: {circle.perimeter()}\")"
      ],
      "metadata": {
        "id": "JlasiNkdG5jH"
      },
      "execution_count": null,
      "outputs": []
    },
    {
      "cell_type": "code",
      "source": [
        "class StringManipulator:\n",
        "    def __init__(self):\n",
        "        self.string = \"\"\n",
        "\n",
        "    def get_String(self):\n",
        "        self.string = input(\"Enter a string: \")\n",
        "\n",
        "    def print_String(self):\n",
        "        print(self.string.upper())\n",
        "\n",
        "string_manipulator = StringManipulator()\n",
        "string_manipulator.get_String()\n",
        "string_manipulator.print_String()"
      ],
      "metadata": {
        "id": "JxCKKAYbG9Tw"
      },
      "execution_count": null,
      "outputs": []
    }
  ]
}