{
  "nbformat": 4,
  "nbformat_minor": 0,
  "metadata": {
    "colab": {
      "provenance": [],
      "include_colab_link": true
    },
    "kernelspec": {
      "name": "python3",
      "display_name": "Python 3"
    },
    "language_info": {
      "name": "python"
    }
  },
  "cells": [
    {
      "cell_type": "markdown",
      "metadata": {
        "id": "view-in-github",
        "colab_type": "text"
      },
      "source": [
        "<a href=\"https://colab.research.google.com/github/TeckHack76/Python_Worksheet/blob/main/Worksheet_3.ipynb\" target=\"_parent\"><img src=\"https://colab.research.google.com/assets/colab-badge.svg\" alt=\"Open In Colab\"/></a>"
      ]
    },
    {
      "cell_type": "code",
      "execution_count": 1,
      "metadata": {
        "id": "2dajPn1UGXOB",
        "colab": {
          "base_uri": "https://localhost:8080/"
        },
        "outputId": "320909f8-48ff-4ddd-a6af-ecff4e7b537e"
      },
      "outputs": [
        {
          "output_type": "stream",
          "name": "stdout",
          "text": [
            "10\n",
            "7\n"
          ]
        }
      ],
      "source": [
        "def difference_from_17(n):\n",
        "    if n > 17:\n",
        "        return 2 * abs(n - 17)\n",
        "    else:\n",
        "        return 17 - n\n",
        "\n",
        "print(difference_from_17(22))\n",
        "print(difference_from_17(10))"
      ]
    },
    {
      "cell_type": "code",
      "source": [
        "def is_within_range(n):\n",
        "    return (100 <= n <= 1000) or (n == 2000)\n",
        "\n",
        "print(is_within_range(150))\n",
        "print(is_within_range(1001))\n",
        "print(is_within_range(2000))"
      ],
      "metadata": {
        "id": "QHCKBnTwGYY6",
        "colab": {
          "base_uri": "https://localhost:8080/"
        },
        "outputId": "8c6d98d3-f9f9-4f8c-de29-78b4317c4bce"
      },
      "execution_count": 2,
      "outputs": [
        {
          "output_type": "stream",
          "name": "stdout",
          "text": [
            "True\n",
            "False\n",
            "True\n"
          ]
        }
      ]
    },
    {
      "cell_type": "code",
      "source": [
        "def reverse_string(s):\n",
        "    return s[::-1]\n",
        "\n",
        "print(reverse_string(\"hello\"))"
      ],
      "metadata": {
        "id": "i85oAiTgGeoW",
        "colab": {
          "base_uri": "https://localhost:8080/"
        },
        "outputId": "fbd3787c-4f5e-4338-95b5-95c0f0e368ed"
      },
      "execution_count": 3,
      "outputs": [
        {
          "output_type": "stream",
          "name": "stdout",
          "text": [
            "olleh\n"
          ]
        }
      ]
    },
    {
      "cell_type": "code",
      "source": [
        "def count_case(s):\n",
        "    upper_count = sum(1 for char in s if char.isupper())\n",
        "    lower_count = sum(1 for char in s if char.islower())\n",
        "    return upper_count, lower_count\n",
        "\n",
        "upper, lower = count_case(\"Hello World!\")\n",
        "print(f\"Upper case letters: {upper}, Lower case letters: {lower}\")"
      ],
      "metadata": {
        "id": "zIbw-G_AGheh",
        "colab": {
          "base_uri": "https://localhost:8080/"
        },
        "outputId": "0c369de0-97ce-43ac-b66a-fddb5ea500a6"
      },
      "execution_count": 4,
      "outputs": [
        {
          "output_type": "stream",
          "name": "stdout",
          "text": [
            "Upper case letters: 2, Lower case letters: 8\n"
          ]
        }
      ]
    },
    {
      "cell_type": "code",
      "source": [
        "def get_distinct_elements(lst):\n",
        "    return list(set(lst))\n",
        "\n",
        "print(get_distinct_elements([1, 2, 2, 3, 4, 4, 5]))"
      ],
      "metadata": {
        "id": "qMZxX55_Gke8",
        "colab": {
          "base_uri": "https://localhost:8080/"
        },
        "outputId": "582d67e8-7afb-4e2c-a532-95e0b519d897"
      },
      "execution_count": 5,
      "outputs": [
        {
          "output_type": "stream",
          "name": "stdout",
          "text": [
            "[1, 2, 3, 4, 5]\n"
          ]
        }
      ]
    },
    {
      "cell_type": "code",
      "source": [
        "def get_even_numbers(lst):\n",
        "    return [x for x in lst if x % 2 == 0]\n",
        "\n",
        "print(get_even_numbers([1, 2, 3, 4, 5, 6, 7, 8, 9]))"
      ],
      "metadata": {
        "id": "u4VhQMCHGown",
        "colab": {
          "base_uri": "https://localhost:8080/"
        },
        "outputId": "552b87dd-d2b2-4cf5-aa48-30c8fabd8f89"
      },
      "execution_count": 6,
      "outputs": [
        {
          "output_type": "stream",
          "name": "stdout",
          "text": [
            "[2, 4, 6, 8]\n"
          ]
        }
      ]
    },
    {
      "cell_type": "code",
      "source": [
        "def outer_function():\n",
        "    def inner_function():\n",
        "        return \"Inner function result\"\n",
        "    return inner_function()\n",
        "\n",
        "print(outer_function())"
      ],
      "metadata": {
        "id": "EELKLCPUGtWs",
        "colab": {
          "base_uri": "https://localhost:8080/"
        },
        "outputId": "ebc538fd-5c48-4a11-db83-5a5085a4ea18"
      },
      "execution_count": 7,
      "outputs": [
        {
          "output_type": "stream",
          "name": "stdout",
          "text": [
            "Inner function result\n"
          ]
        }
      ]
    },
    {
      "cell_type": "code",
      "source": [
        "def student(name, age, grade):\n",
        "    student_args = student.__code__.co_varnames[:student.__code__.co_argcount]\n",
        "    print(\"Arguments:\", student_args)\n",
        "\n",
        "student(\"John\", 21, \"A\")"
      ],
      "metadata": {
        "id": "ZwyIwDYkGvuj",
        "colab": {
          "base_uri": "https://localhost:8080/"
        },
        "outputId": "2d2cfa2d-b80a-4389-9a0b-3827ce99714b"
      },
      "execution_count": 8,
      "outputs": [
        {
          "output_type": "stream",
          "name": "stdout",
          "text": [
            "Arguments: ('name', 'age', 'grade')\n"
          ]
        }
      ]
    },
    {
      "cell_type": "code",
      "source": [
        "class Student:\n",
        "    def __init__(self, student_id, student_name):\n",
        "        self.student_id = student_id\n",
        "        self.student_name = student_name\n",
        "        self.student_class = None\n",
        "\n",
        "    def display_info(self):\n",
        "        print(f\"ID: {self.student_id}, Name: {self.student_name}, Class: {self.student_class}\")\n",
        "\n",
        "student = Student(1, \"Alice\")\n",
        "student.student_class = \"Math 101\"\n",
        "student.display_info()"
      ],
      "metadata": {
        "id": "wQoidptXGyFu",
        "colab": {
          "base_uri": "https://localhost:8080/"
        },
        "outputId": "6c2464ee-7e36-4c20-df18-105726b00cbc"
      },
      "execution_count": 9,
      "outputs": [
        {
          "output_type": "stream",
          "name": "stdout",
          "text": [
            "ID: 1, Name: Alice, Class: Math 101\n"
          ]
        }
      ]
    },
    {
      "cell_type": "code",
      "source": [
        "class Student:\n",
        "    def __init__(self, student_id, student_name):\n",
        "        self.student_id = student_id\n",
        "        self.student_name = student_name\n",
        "\n",
        "    def display_info(self):\n",
        "        print(f\"Student ID: {self.student_id}\")\n",
        "        print(f\"Student Name: {self.student_name}\")\n",
        "\n",
        "student1 = Student(1, \"Alice\")\n",
        "student2 = Student(2, \"Bob\")\n",
        "\n",
        "student1.display_info()\n",
        "student2.display_info()"
      ],
      "metadata": {
        "id": "4v2VmKUEG1cb",
        "colab": {
          "base_uri": "https://localhost:8080/"
        },
        "outputId": "b36536f1-cb67-475a-83a0-b8032750fa72"
      },
      "execution_count": 10,
      "outputs": [
        {
          "output_type": "stream",
          "name": "stdout",
          "text": [
            "Student ID: 1\n",
            "Student Name: Alice\n",
            "Student ID: 2\n",
            "Student Name: Bob\n"
          ]
        }
      ]
    },
    {
      "cell_type": "code",
      "source": [
        "import math\n",
        "\n",
        "class Circle:\n",
        "    def __init__(self, radius):\n",
        "        self.radius = radius\n",
        "\n",
        "    def area(self):\n",
        "        return math.pi * self.radius ** 2\n",
        "\n",
        "    def perimeter(self):\n",
        "        return 2 * math.pi * self.radius\n",
        "\n",
        "circle = Circle(5)\n",
        "print(f\"Area: {circle.area()}\")\n",
        "print(f\"Perimeter: {circle.perimeter()}\")"
      ],
      "metadata": {
        "id": "JlasiNkdG5jH",
        "colab": {
          "base_uri": "https://localhost:8080/"
        },
        "outputId": "e5b5eca8-a7e2-46bc-e65e-57302d711eaa"
      },
      "execution_count": 11,
      "outputs": [
        {
          "output_type": "stream",
          "name": "stdout",
          "text": [
            "Area: 78.53981633974483\n",
            "Perimeter: 31.41592653589793\n"
          ]
        }
      ]
    },
    {
      "cell_type": "code",
      "source": [
        "class StringManipulator:\n",
        "    def __init__(self):\n",
        "        self.string = \"\"\n",
        "\n",
        "    def get_String(self):\n",
        "        self.string = input(\"Enter a string: \")\n",
        "\n",
        "    def print_String(self):\n",
        "        print(self.string.upper())\n",
        "\n",
        "string_manipulator = StringManipulator()\n",
        "string_manipulator.get_String()\n",
        "string_manipulator.print_String()"
      ],
      "metadata": {
        "id": "JxCKKAYbG9Tw",
        "colab": {
          "base_uri": "https://localhost:8080/"
        },
        "outputId": "1d7c4d00-08a9-4a77-c308-59420e1a48cb"
      },
      "execution_count": 12,
      "outputs": [
        {
          "output_type": "stream",
          "name": "stdout",
          "text": [
            "Enter a string: hello\n",
            "HELLO\n"
          ]
        }
      ]
    }
  ]
}