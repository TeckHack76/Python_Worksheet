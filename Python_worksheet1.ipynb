{
  "nbformat": 4,
  "nbformat_minor": 0,
  "metadata": {
    "colab": {
      "provenance": [],
      "authorship_tag": "ABX9TyO5UgNT9JbI77xCsY2ku8jo",
      "include_colab_link": true
    },
    "kernelspec": {
      "name": "python3",
      "display_name": "Python 3"
    },
    "language_info": {
      "name": "python"
    }
  },
  "cells": [
    {
      "cell_type": "markdown",
      "metadata": {
        "id": "view-in-github",
        "colab_type": "text"
      },
      "source": [
        "<a href=\"https://colab.research.google.com/github/TeckHack76/Worksheet_1/blob/main/Python_worksheet1.ipynb\" target=\"_parent\"><img src=\"https://colab.research.google.com/assets/colab-badge.svg\" alt=\"Open In Colab\"/></a>"
      ]
    },
    {
      "cell_type": "code",
      "execution_count": null,
      "metadata": {
        "colab": {
          "base_uri": "https://localhost:8080/"
        },
        "id": "wh358IK1UPoS",
        "outputId": "365ebd72-6417-4633-f0df-2ecf1d7f21ce"
      },
      "outputs": [
        {
          "output_type": "stream",
          "name": "stdout",
          "text": [
            "Twinkle, twinkle, little star,\n",
            "How I wonder what you are!\n",
            "Up above the world so high,\n",
            "Like a diamond in the sky.\n",
            "Twinkle, twinkle, little star,\n",
            "How I wonder what you are.\n"
          ]
        }
      ],
      "source": [
        "# 1. Write a Python program to print the following string in a specific format (see the\n",
        "# output). Sample String : \"Twinkle, twinkle, little star, How I wonder what you are! Up above\n",
        "# the world so high, Like a diamond in the sky. Twinkle, twinkle, little star, How I wonder what\n",
        "# you are\".\n",
        "print(\"Twinkle, twinkle, little star,\\nHow I wonder what you are!\\nUp above the world so high,\\nLike a diamond in the sky.\\nTwinkle, twinkle, little star,\\nHow I wonder what you are.\")"
      ]
    },
    {
      "cell_type": "code",
      "source": [
        "# 2. Write a Python program that accepts the user's first and last name and prints them in\n",
        "# reverse order with a space between them.\n",
        "first=input(\"Enter your first name:\")\n",
        "second=input(\"Enter your second name:\")\n",
        "print(second,first)"
      ],
      "metadata": {
        "colab": {
          "base_uri": "https://localhost:8080/"
        },
        "id": "YPkUt5LPU-pW",
        "outputId": "2afdfca2-63e7-489d-b4b1-07dea45c2556"
      },
      "execution_count": null,
      "outputs": [
        {
          "output_type": "stream",
          "name": "stdout",
          "text": [
            "Enter your first name:Ayush\n",
            "Enter your second name:Garg\n",
            "Garg Ayush\n"
          ]
        }
      ]
    },
    {
      "cell_type": "code",
      "source": [
        "# 3. Write a Python program that calculates the area of a circle based on the radius entered\n",
        "# by the user.\n",
        "radius = float(input(\"Enter the radius of circle:\"))\n",
        "area = 3.14 * radius * radius\n",
        "print(\"Area of circle is:\",area)"
      ],
      "metadata": {
        "colab": {
          "base_uri": "https://localhost:8080/"
        },
        "id": "sYmssUipVAWS",
        "outputId": "6d5c932e-db94-4744-cac0-f061ec660c50"
      },
      "execution_count": null,
      "outputs": [
        {
          "output_type": "stream",
          "name": "stdout",
          "text": [
            "Enter the radius of circle:4.5\n",
            "Area of circle is: 63.585\n"
          ]
        }
      ]
    },
    {
      "cell_type": "code",
      "source": [
        "# 4. Write a Python program to display the first and last colors from the following list.\n",
        "# color_list = [\"Red\",\"Green\",\"White\" ,\"Black\"]\n",
        "\n",
        "color_list = [\"Red\",\"Green\",\"White\" ,\"Black\"]\n",
        "print(color_list[0],color_list[-1])"
      ],
      "metadata": {
        "colab": {
          "base_uri": "https://localhost:8080/"
        },
        "id": "e1WLvjuuVCbe",
        "outputId": "e476bea4-54e1-47bb-8e75-7260c769caad"
      },
      "execution_count": null,
      "outputs": [
        {
          "output_type": "stream",
          "name": "stdout",
          "text": [
            "Red Black\n"
          ]
        }
      ]
    },
    {
      "cell_type": "code",
      "source": [
        "# 5. Write a Python program that accepts an integer (n) and computes the value of\n",
        "# n+nn+nnn.\n",
        "# Sample value of n is 5\n",
        "a=input(\"Enetr a number:\")\n",
        "print(int(a)+int(a+a)+int(a+a+a))"
      ],
      "metadata": {
        "colab": {
          "base_uri": "https://localhost:8080/"
        },
        "id": "qjJTd-dmVEsw",
        "outputId": "e375c02a-76fe-4e45-8876-3dd8098713bd"
      },
      "execution_count": null,
      "outputs": [
        {
          "output_type": "stream",
          "name": "stdout",
          "text": [
            "Enetr a number:5\n",
            "615\n"
          ]
        }
      ]
    },
    {
      "cell_type": "code",
      "source": [
        "# 6. Write a Python program that accepts a sequence of comma-separated numbers from the\n",
        "# user and generates a list and a tuple of those numbers. Sample data : 3, 5, 7, 23\n",
        "n=input(\"Enter a sequence of comma-separated numbers: \")\n",
        "l=n.split(\",\")\n",
        "t=tuple(l)\n",
        "print(l)\n",
        "print(t)"
      ],
      "metadata": {
        "colab": {
          "base_uri": "https://localhost:8080/"
        },
        "id": "wSo2DbbSVITO",
        "outputId": "0fbbc973-a0ad-4a11-f08f-8dd748e15187"
      },
      "execution_count": null,
      "outputs": [
        {
          "output_type": "stream",
          "name": "stdout",
          "text": [
            "Enter a sequence of comma-separated numbers: 3, 5, 7, 23\n",
            "['3', ' 5', ' 7', ' 23']\n",
            "('3', ' 5', ' 7', ' 23')\n"
          ]
        }
      ]
    },
    {
      "cell_type": "code",
      "source": [
        "# 7. Write a program that will convert celsius value to Fahrenheit.\n",
        "celsius=float(input(\"Enter the celsius value: \"))\n",
        "fahrenheit=(celsius*1.8)+32\n",
        "print(\"The fahrenheit value is: \",fahrenheit)"
      ],
      "metadata": {
        "colab": {
          "base_uri": "https://localhost:8080/"
        },
        "id": "2zOsr03GX3ez",
        "outputId": "4c031b11-4f93-4853-846e-20aa5e68e409"
      },
      "execution_count": null,
      "outputs": [
        {
          "output_type": "stream",
          "name": "stdout",
          "text": [
            "Enter the celsius value: 100\n",
            "The fahrenheit value is:  212.0\n"
          ]
        }
      ]
    },
    {
      "cell_type": "code",
      "source": [
        "# 8. User will input (2numbers). Write a program to swap the numbers. Add incrementally\n",
        "# in any one variable.\n",
        "a=int(input(\"Enter a number: \"))\n",
        "b=int(input(\"Enter a number: \"))\n",
        "print(\"Before swapping: \",a,\",\",b)\n",
        "print(\"After swapping: \",b,\",\",a)\n",
        "a=a+1\n",
        "print(\"After increment: \",b,\",\",a)"
      ],
      "metadata": {
        "colab": {
          "base_uri": "https://localhost:8080/"
        },
        "id": "-b6Gl2nSVMPM",
        "outputId": "b61c4eaf-3e5a-491e-b912-ed50e3d8aa74"
      },
      "execution_count": null,
      "outputs": [
        {
          "output_type": "stream",
          "name": "stdout",
          "text": [
            "Enter a number: 12\n",
            "Enter a number: 23\n",
            "Before swapping:  12 , 23\n",
            "After swapping:  23 , 12\n",
            "After increment:  23 , 13\n"
          ]
        }
      ]
    },
    {
      "cell_type": "code",
      "source": [
        "# 9. Write a program that will tell whether the number entered by the user is odd or even.\n",
        "num = int(input(\"Enter a number: \"))\n",
        "if (num % 2) == 0:\n",
        "   print(\"Number is Even\")\n",
        "else:\n",
        "   print(\"Number is Odd\")"
      ],
      "metadata": {
        "colab": {
          "base_uri": "https://localhost:8080/"
        },
        "id": "YWY7qxirVOmW",
        "outputId": "565d58f9-e021-489a-ecad-057cd540f764"
      },
      "execution_count": null,
      "outputs": [
        {
          "output_type": "stream",
          "name": "stdout",
          "text": [
            "Enter a number: 54\n",
            "Number is Even\n"
          ]
        }
      ]
    },
    {
      "cell_type": "code",
      "source": [
        "# 10. Write a program that will tell whether the given year is a leap year or not.\n",
        "# A leap year is a exactly divisible by 4 but not by 100\n",
        "num = int(input(\"Enter a number: \"))\n",
        "if (num % 4 == 0 and num % 100 != 0) or (num % 400 == 0):\n",
        "    print(num, \"is a leap year\")\n",
        "else:\n",
        "    print(num, \"is not a leap year\")"
      ],
      "metadata": {
        "colab": {
          "base_uri": "https://localhost:8080/"
        },
        "id": "YixuowKCZnDW",
        "outputId": "b7f65e14-9e3b-4eee-f267-8a44375406eb"
      },
      "execution_count": null,
      "outputs": [
        {
          "output_type": "stream",
          "name": "stdout",
          "text": [
            "Enter a number: 2755\n",
            "2755 is not a leap year\n"
          ]
        }
      ]
    },
    {
      "cell_type": "code",
      "source": [
        "# 11. Write a program to find the euclidean distance between two coordinates.\n",
        "x=int(input(\"Enter the value of x:\"))\n",
        "y=int(input(\"Enter the value of y:\"))\n",
        "x1=int(input(\"Enter the value of x1:\"))\n",
        "y1=int(input(\"Enter the value of y1:\"))\n",
        "distance=((x-x1)**2+(y-y1)**2)**0.5\n",
        "print(\"Distance\",distance)"
      ],
      "metadata": {
        "colab": {
          "base_uri": "https://localhost:8080/"
        },
        "id": "963N3DjMambC",
        "outputId": "c4d1cad7-77b6-4058-c84d-baa40f534de2"
      },
      "execution_count": null,
      "outputs": [
        {
          "output_type": "stream",
          "name": "stdout",
          "text": [
            "Enter the value of x:10\n",
            "Enter the value of y:9\n",
            "Enter the value of x1:6\n",
            "Enter the value of y1:4\n",
            "Distance 6.4031242374328485\n"
          ]
        }
      ]
    },
    {
      "cell_type": "code",
      "source": [
        "# 12. Write a program that take a user input of three angles and will find out whether it can\n",
        "# form a triangle or not.\n",
        "a=int(input(\"Enter first angle: \"))\n",
        "b=int(input(\"Enter second angle: \"))\n",
        "c=int(input(\"Enter third angle: \"))\n",
        "if a+b+c==180:\n",
        "    print(\"It can form a triangle\")\n",
        "else:\n",
        "  print(\"It can't form a triangle\")"
      ],
      "metadata": {
        "colab": {
          "base_uri": "https://localhost:8080/"
        },
        "id": "jSP_-JnFVXrl",
        "outputId": "88aaa4af-6cb8-4d34-d5cb-d27fef045c7d"
      },
      "execution_count": null,
      "outputs": [
        {
          "output_type": "stream",
          "name": "stdout",
          "text": [
            "Enter first angle: 20\n",
            "Enter second angle: 90\n",
            "Enter third angle: 70\n",
            "It can form a triangle\n"
          ]
        }
      ]
    },
    {
      "cell_type": "code",
      "source": [
        "# 13. WAP to find compound interest for given values.\n",
        "amount = float(input(\"Enter the amount: \"))\n",
        "rate = float(input(\"Enter the rate: \"))\n",
        "time = float(input(\"Enter the time: \"))\n",
        "ci = amount * (1 + rate/100)**time\n",
        "print(\"Compound interest is: \", ci)"
      ],
      "metadata": {
        "colab": {
          "base_uri": "https://localhost:8080/"
        },
        "id": "wFpU-FmhVZQN",
        "outputId": "7f803dd9-b713-4403-94f1-dc709e1cb714"
      },
      "execution_count": null,
      "outputs": [
        {
          "output_type": "stream",
          "name": "stdout",
          "text": [
            "Enter the amount: 100\n",
            "Enter the rate: 1\n",
            "Enter the time: 1\n",
            "Compound interest is:  101.0\n"
          ]
        }
      ]
    },
    {
      "cell_type": "code",
      "source": [
        "# 14. Given a positive integer N, the task is to write a Python program to check if the number\n",
        "# is Prime or not in Python.\n",
        "n=int(input(\"Enter a number:\"))\n",
        "if n>1:\n",
        "    for i in range(2,n):\n",
        "        if n%i==0:\n",
        "            print(n,\"is not a prime number\")\n",
        "            break\n",
        "    else:\n",
        "        print(n,\"is a prime number\")"
      ],
      "metadata": {
        "colab": {
          "base_uri": "https://localhost:8080/"
        },
        "id": "27jIHoeIVbEs",
        "outputId": "111784dc-1515-4283-a366-49bf65730679"
      },
      "execution_count": null,
      "outputs": [
        {
          "output_type": "stream",
          "name": "stdout",
          "text": [
            "Enter a number:100\n",
            "100 is not a prime number\n"
          ]
        }
      ]
    },
    {
      "cell_type": "code",
      "source": [
        "# 15. Given a positive integer N. The task is to find 12\n",
        "#  + 22\n",
        "#  + 32\n",
        "#  + ….. + N2.\n",
        "n=int(input(\"Enter a positive number: \"))\n",
        "if n>0:\n",
        "    sum=0\n",
        "    for i in range(1,n+1):\n",
        "        sum=sum+(i*i)\n",
        "    print(sum)\n",
        "else:\n",
        "    print(\"Enter a positive number\")"
      ],
      "metadata": {
        "colab": {
          "base_uri": "https://localhost:8080/"
        },
        "id": "BBJUXsMJVdA3",
        "outputId": "469b4533-6cff-443d-91b0-2740268c3a62"
      },
      "execution_count": null,
      "outputs": [
        {
          "output_type": "stream",
          "name": "stdout",
          "text": [
            "Enter a positive number: 20\n",
            "2870\n"
          ]
        }
      ]
    }
  ]
}