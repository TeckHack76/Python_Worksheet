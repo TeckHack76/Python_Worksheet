{
  "nbformat": 4,
  "nbformat_minor": 0,
  "metadata": {
    "colab": {
      "provenance": [],
      "authorship_tag": "ABX9TyNbGpv4X6XuPy97/hX6cbVi",
      "include_colab_link": true
    },
    "kernelspec": {
      "name": "python3",
      "display_name": "Python 3"
    },
    "language_info": {
      "name": "python"
    }
  },
  "cells": [
    {
      "cell_type": "markdown",
      "metadata": {
        "id": "view-in-github",
        "colab_type": "text"
      },
      "source": [
        "<a href=\"https://colab.research.google.com/github/TeckHack76/Python_Worksheet/blob/main/Worksheet_4.ipynb\" target=\"_parent\"><img src=\"https://colab.research.google.com/assets/colab-badge.svg\" alt=\"Open In Colab\"/></a>"
      ]
    },
    {
      "cell_type": "code",
      "execution_count": 23,
      "metadata": {
        "colab": {
          "base_uri": "https://localhost:8080/"
        },
        "id": "vMU97NmHUfha",
        "outputId": "2cc1ffe7-8c1e-48da-af9c-39ac7f2a864f"
      },
      "outputs": [
        {
          "output_type": "stream",
          "name": "stdout",
          "text": [
            "[ 5  6  7  8  9 10 11 12 13 14 15 16 17 18 19 20 21 22 23 24 25]\n"
          ]
        }
      ],
      "source": [
        "#q1.1\n",
        "import numpy as np\n",
        "array1 =np.arange(5,26)\n",
        "print(array1)"
      ]
    },
    {
      "cell_type": "code",
      "source": [
        "#q1.2\n",
        "import numpy as np\n",
        "array2 = np.random.randint(10,50,size=(3,4))\n",
        "print(array2)"
      ],
      "metadata": {
        "colab": {
          "base_uri": "https://localhost:8080/"
        },
        "id": "UZm2XGuBU_Bc",
        "outputId": "93786c34-918e-4e91-d854-c45e23f57499"
      },
      "execution_count": 21,
      "outputs": [
        {
          "output_type": "stream",
          "name": "stdout",
          "text": [
            "[[27 31 31 24]\n",
            " [45 11 44 19]\n",
            " [17 40 42 28]]\n"
          ]
        }
      ]
    },
    {
      "cell_type": "code",
      "source": [
        "#q2.1\n",
        "print(array1.shape)"
      ],
      "metadata": {
        "colab": {
          "base_uri": "https://localhost:8080/"
        },
        "id": "KV3LysuGVPcb",
        "outputId": "d8ba3e6d-453e-46f7-a8e3-b7ffb231c827"
      },
      "execution_count": 24,
      "outputs": [
        {
          "output_type": "stream",
          "name": "stdout",
          "text": [
            "(21,)\n"
          ]
        }
      ]
    },
    {
      "cell_type": "code",
      "source": [
        "print(array1.size)"
      ],
      "metadata": {
        "colab": {
          "base_uri": "https://localhost:8080/"
        },
        "id": "AqCboR0MVSnV",
        "outputId": "c5d78eab-7429-421e-9d98-48ad6c0c8eb3"
      },
      "execution_count": null,
      "outputs": [
        {
          "output_type": "stream",
          "name": "stdout",
          "text": [
            "21\n"
          ]
        }
      ]
    },
    {
      "cell_type": "code",
      "source": [
        "print(array1.dtype)"
      ],
      "metadata": {
        "colab": {
          "base_uri": "https://localhost:8080/"
        },
        "id": "0PPJeCyZVVr7",
        "outputId": "f64d6183-7056-401e-893a-231ebc3b1e06"
      },
      "execution_count": null,
      "outputs": [
        {
          "output_type": "stream",
          "name": "stdout",
          "text": [
            "int64\n"
          ]
        }
      ]
    },
    {
      "cell_type": "code",
      "source": [
        "#q2.2\n",
        "print(array2.shape)\n",
        "print(array2.size)\n",
        "print(array2.dtype)"
      ],
      "metadata": {
        "colab": {
          "base_uri": "https://localhost:8080/"
        },
        "id": "_mciSHxKVZxu",
        "outputId": "991ac6b4-1e68-4b92-eb89-a13c0b4e5abd"
      },
      "execution_count": null,
      "outputs": [
        {
          "output_type": "stream",
          "name": "stdout",
          "text": [
            "(3, 4)\n",
            "12\n",
            "int64\n"
          ]
        }
      ]
    },
    {
      "cell_type": "code",
      "source": [
        "#q3.1\n",
        "import numpy as np\n",
        "Array1 = np.array([2 ,4, 6, 8, 10])\n",
        "Array2 = np.array([1, 3, 5, 7, 9])\n",
        "print(Array1,Array2)"
      ],
      "metadata": {
        "colab": {
          "base_uri": "https://localhost:8080/"
        },
        "id": "zN2WAL2lV64l",
        "outputId": "fce38d39-3c9d-4b31-f054-2fb7f17c9d16"
      },
      "execution_count": null,
      "outputs": [
        {
          "output_type": "stream",
          "name": "stdout",
          "text": [
            "[ 2  4  6  8 10] [1 3 5 7 9]\n"
          ]
        }
      ]
    },
    {
      "cell_type": "code",
      "source": [
        "#q3.2\n",
        "add = Array1 + Array2\n",
        "print(add)\n",
        "sub = Array1 - Array2\n",
        "print(sub)\n",
        "mul = Array1 * Array2\n",
        "print(mul)\n",
        "div = Array1 / Array2\n",
        "print(div)"
      ],
      "metadata": {
        "colab": {
          "base_uri": "https://localhost:8080/"
        },
        "id": "W4mKSLaYWUwf",
        "outputId": "b20335ab-9462-46ea-c9bc-8097c15f0ddd"
      },
      "execution_count": null,
      "outputs": [
        {
          "output_type": "stream",
          "name": "stdout",
          "text": [
            "[ 3  7 11 15 19]\n",
            "[1 1 1 1 1]\n",
            "[ 2 12 30 56 90]\n",
            "[2.         1.33333333 1.2        1.14285714 1.11111111]\n"
          ]
        }
      ]
    },
    {
      "cell_type": "code",
      "source": [
        "#q4.1\n",
        "import numpy as np\n",
        "array = np.arange(1,10).reshape(3,3)\n",
        "print(array)"
      ],
      "metadata": {
        "id": "01y2QZPeW5aX",
        "colab": {
          "base_uri": "https://localhost:8080/"
        },
        "outputId": "311ee869-d710-4960-aec7-5fe0c18f92ef"
      },
      "execution_count": 12,
      "outputs": [
        {
          "output_type": "stream",
          "name": "stdout",
          "text": [
            "[[1 2 3]\n",
            " [4 5 6]\n",
            " [7 8 9]]\n"
          ]
        }
      ]
    },
    {
      "cell_type": "code",
      "source": [
        "#q4.2\n",
        "5*(array)"
      ],
      "metadata": {
        "colab": {
          "base_uri": "https://localhost:8080/"
        },
        "id": "Dnhb1geDzDEC",
        "outputId": "c2d255e8-422a-4dac-ef74-9896919648cf"
      },
      "execution_count": 13,
      "outputs": [
        {
          "output_type": "execute_result",
          "data": {
            "text/plain": [
              "array([[ 5, 10, 15],\n",
              "       [20, 25, 30],\n",
              "       [35, 40, 45]])"
            ]
          },
          "metadata": {},
          "execution_count": 13
        }
      ]
    },
    {
      "cell_type": "code",
      "source": [
        "#q5\n",
        "import numpy as np\n",
        "array1 = np.arange(10,26).reshape(4,4)\n",
        "print(array1)\n",
        "print(array1[1])\n",
        "print(array1[3])\n",
        "array1[0]=0\n",
        "print(array1)"
      ],
      "metadata": {
        "colab": {
          "base_uri": "https://localhost:8080/"
        },
        "id": "KLFzgZYn0prT",
        "outputId": "f1a4fd86-b801-4a86-a828-5d911fbb5825"
      },
      "execution_count": 11,
      "outputs": [
        {
          "output_type": "stream",
          "name": "stdout",
          "text": [
            "[[10 11 12 13]\n",
            " [14 15 16 17]\n",
            " [18 19 20 21]\n",
            " [22 23 24 25]]\n",
            "[14 15 16 17]\n",
            "[22 23 24 25]\n",
            "[[ 0  0  0  0]\n",
            " [14 15 16 17]\n",
            " [18 19 20 21]\n",
            " [22 23 24 25]]\n"
          ]
        }
      ]
    },
    {
      "cell_type": "code",
      "source": [
        "#q6.1\n",
        "import numpy as np\n",
        "array = np.random.randint(20,40,size=[1,10])\n",
        "print(array)"
      ],
      "metadata": {
        "colab": {
          "base_uri": "https://localhost:8080/"
        },
        "id": "uRst-mzx1ZZO",
        "outputId": "337008eb-6232-4a48-beb9-ce192b5ae690"
      },
      "execution_count": 16,
      "outputs": [
        {
          "output_type": "stream",
          "name": "stdout",
          "text": [
            "[[42 20 22 31 30 36 39 35 21 22]]\n"
          ]
        }
      ]
    },
    {
      "cell_type": "code",
      "source": [
        "#q6.2\n",
        "element = array[array>30]\n",
        "print(element)"
      ],
      "metadata": {
        "colab": {
          "base_uri": "https://localhost:8080/"
        },
        "id": "5H7yM_2i3bQF",
        "outputId": "f288f740-01fd-4cd0-b21b-8c8307fb51f4"
      },
      "execution_count": 17,
      "outputs": [
        {
          "output_type": "stream",
          "name": "stdout",
          "text": [
            "[42 31 36 39 35]\n"
          ]
        }
      ]
    },
    {
      "cell_type": "code",
      "source": [
        "#q7.1\n",
        "import numpy as np\n",
        "array = np.random.randint(11,50,size=(1,12))\n",
        "print(array)"
      ],
      "metadata": {
        "colab": {
          "base_uri": "https://localhost:8080/"
        },
        "id": "_XL7FJNf4Yfz",
        "outputId": "f166ff07-2381-4cf6-f7a9-253021e7c99e"
      },
      "execution_count": 2,
      "outputs": [
        {
          "output_type": "stream",
          "name": "stdout",
          "text": [
            "[[25 44 18 34 31 12 15 39 29 20 17 46]]\n"
          ]
        }
      ]
    },
    {
      "cell_type": "code",
      "source": [
        "#q7.2\n",
        "print(array.reshape(3,4))"
      ],
      "metadata": {
        "colab": {
          "base_uri": "https://localhost:8080/"
        },
        "id": "qJohGEoL5yhj",
        "outputId": "88ef196c-a9d4-45b1-a6d3-4b7471cb9616"
      },
      "execution_count": 3,
      "outputs": [
        {
          "output_type": "stream",
          "name": "stdout",
          "text": [
            "[[25 44 18 34]\n",
            " [31 12 15 39]\n",
            " [29 20 17 46]]\n"
          ]
        }
      ]
    },
    {
      "cell_type": "code",
      "source": [
        "#q8.1\n",
        "Matrix_A=np.array([[1,2],[3,4]])\n",
        "Matrix_B=np.array([[5,6],[7,8]])\n",
        "print(Matrix_A)\n",
        "print(Matrix_B)"
      ],
      "metadata": {
        "colab": {
          "base_uri": "https://localhost:8080/"
        },
        "id": "XXI3V3C06Fbt",
        "outputId": "332791b2-7ce8-4b88-e89d-79e89e1c466f"
      },
      "execution_count": 4,
      "outputs": [
        {
          "output_type": "stream",
          "name": "stdout",
          "text": [
            "[[1 2]\n",
            " [3 4]]\n",
            "[[5 6]\n",
            " [7 8]]\n"
          ]
        }
      ]
    },
    {
      "cell_type": "code",
      "source": [
        "#q8.2\n",
        "np.dot(Matrix_A,Matrix_B)"
      ],
      "metadata": {
        "colab": {
          "base_uri": "https://localhost:8080/"
        },
        "id": "K_rdkpyT6RG1",
        "outputId": "7f715748-86db-4d29-f472-30e85241840e"
      },
      "execution_count": 5,
      "outputs": [
        {
          "output_type": "execute_result",
          "data": {
            "text/plain": [
              "array([[19, 22],\n",
              "       [43, 50]])"
            ]
          },
          "metadata": {},
          "execution_count": 5
        }
      ]
    },
    {
      "cell_type": "code",
      "source": [
        "transpose = Matrix_A.T\n",
        "print(transpose)"
      ],
      "metadata": {
        "colab": {
          "base_uri": "https://localhost:8080/"
        },
        "id": "O-SM3Wly6e-U",
        "outputId": "3ab8e5f5-9578-41ca-807f-da7c1e646935"
      },
      "execution_count": 8,
      "outputs": [
        {
          "output_type": "stream",
          "name": "stdout",
          "text": [
            "[[1 3]\n",
            " [2 4]]\n"
          ]
        }
      ]
    },
    {
      "cell_type": "code",
      "source": [
        "#q9.1\n",
        "import numpy as np\n",
        "A=np.random.randint(10,61,size=(1,15))\n",
        "print(A)"
      ],
      "metadata": {
        "colab": {
          "base_uri": "https://localhost:8080/"
        },
        "id": "2WUedBP96_iv",
        "outputId": "615a5399-00a8-46d0-acc4-8a1a6d678535"
      },
      "execution_count": 9,
      "outputs": [
        {
          "output_type": "stream",
          "name": "stdout",
          "text": [
            "[[32 51 57 57 14 40 41 60 11 10 60 45 29 13 58]]\n"
          ]
        }
      ]
    },
    {
      "cell_type": "code",
      "source": [
        "#q9.2\n",
        "print(np.mean(A))\n",
        "print(np.median(A))\n",
        "print(np.std(A))"
      ],
      "metadata": {
        "colab": {
          "base_uri": "https://localhost:8080/"
        },
        "id": "W8SSWfI6uJnR",
        "outputId": "46757142-2010-4a91-cbe4-dbc5c963f6a2"
      },
      "execution_count": 14,
      "outputs": [
        {
          "output_type": "stream",
          "name": "stdout",
          "text": [
            "38.53333333333333\n",
            "41.0\n",
            "18.525178061822302\n"
          ]
        }
      ]
    },
    {
      "cell_type": "code",
      "source": [
        "#10\n",
        "from numpy import linalg as LA\n",
        "A=np.array([[2,1,3],[0,5,6],[7,8,9]])\n",
        "print(A)\n",
        "print(LA.det(A))\n",
        "print(LA.inv(A))\n",
        "print(LA.eig(A))"
      ],
      "metadata": {
        "colab": {
          "base_uri": "https://localhost:8080/"
        },
        "id": "LmQLSGIcuWVH",
        "outputId": "a1fd5245-e304-47eb-864c-4005072de0d2"
      },
      "execution_count": 20,
      "outputs": [
        {
          "output_type": "stream",
          "name": "stdout",
          "text": [
            "[[2 1 3]\n",
            " [0 5 6]\n",
            " [7 8 9]]\n",
            "-68.99999999999996\n",
            "[[ 0.04347826 -0.2173913   0.13043478]\n",
            " [-0.60869565  0.04347826  0.17391304]\n",
            " [ 0.50724638  0.13043478 -0.14492754]]\n",
            "EigResult(eigenvalues=array([15.45215427,  2.40475147, -1.85690573]), eigenvectors=array([[-0.22453607, -0.55941438, -0.38300969],\n",
            "       [-0.48513596,  0.7607706 , -0.60830181],\n",
            "       [-0.84511931, -0.3290648 ,  0.69517803]]))\n"
          ]
        }
      ]
    },
    {
      "cell_type": "code",
      "source": [],
      "metadata": {
        "id": "t3wKZHxqvJiu"
      },
      "execution_count": null,
      "outputs": []
    }
  ]
}